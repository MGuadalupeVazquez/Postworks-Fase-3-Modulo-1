{
  "nbformat": 4,
  "nbformat_minor": 0,
  "metadata": {
    "colab": {
      "provenance": [],
      "collapsed_sections": []
    },
    "kernelspec": {
      "name": "python3",
      "display_name": "Python 3"
    },
    "language_info": {
      "name": "python"
    }
  },
  "cells": [
    {
      "cell_type": "markdown",
      "source": [
        "# Postwork 8"
      ],
      "metadata": {
        "id": "At-fnND8DYjD"
      }
    },
    {
      "cell_type": "markdown",
      "source": [
        "**Introducción a Machine Learning: Clasificación No Supervisada y Supervisada**\n",
        "\n",
        "*REQUISITO:* Tener un dataset limpio que contenga una variable dependiente binaria. En caso de que tu dataset no contenga una variable dependiente binaria, date una vuelta por Kaggle y busca algún dataset apropiado.\n",
        "\n",
        "Realiza los siguientes pasos:\n",
        "- Entrena un modelo de Regresión Logística con tu dataset.\n",
        "- Evalúa tu modelo de Regresión Logística utilizando matriz de confusión; medidas de precisión, exactitud, sensibilidad y especificidad; y curva ROC/AUC.\n"
      ],
      "metadata": {
        "id": "q3A4MfgRDYV1"
      }
    },
    {
      "cell_type": "markdown",
      "source": [
        "Tomamos un dataset de kaggle [Patient Survival After One Year of Treatment](https://www.kaggle.com/datasets/rsrishav/patient-survival-after-one-year-of-treatment) para predecir la supervivencia de un paciente después de un año de tratamiento. Según la descripción, un hospital de Groenlandia quiere identificar los principales factores que conducen a la falta de supervivencia. "
      ],
      "metadata": {
        "id": "LMgltSuO4bAt"
      }
    },
    {
      "cell_type": "code",
      "execution_count": null,
      "metadata": {
        "id": "BUqcMr5yDKId"
      },
      "outputs": [],
      "source": [
        "import pandas as pd"
      ]
    },
    {
      "cell_type": "code",
      "source": [
        "# Activamos la unidad de almacenamiento de Google Drive.\n",
        "from google.colab import drive\n",
        "drive.mount('/content/drive')"
      ],
      "metadata": {
        "colab": {
          "base_uri": "https://localhost:8080/"
        },
        "id": "ztRAtdx57ZvS",
        "outputId": "4ddec0e5-da2c-41f1-e8d5-2a74c1bf0afc"
      },
      "execution_count": null,
      "outputs": [
        {
          "output_type": "stream",
          "name": "stdout",
          "text": [
            "Drive already mounted at /content/drive; to attempt to forcibly remount, call drive.mount(\"/content/drive\", force_remount=True).\n"
          ]
        }
      ]
    },
    {
      "cell_type": "code",
      "source": [
        "#leemos los datasets que previamente han sido descargados y subidos a Google Drive\n",
        "df1 = pd.read_csv('/content/drive/MyDrive/Testing_set_advance.csv')\n",
        "df2 = pd.read_csv('/content/drive/MyDrive/Testing_set_intermediate.csv')\n",
        "df3 = pd.read_csv('/content/drive/MyDrive/Training_set_advance.csv')\n",
        "df4 = pd.read_csv('/content/drive/MyDrive/Training_set_intermediate.csv')"
      ],
      "metadata": {
        "id": "q3y6oFuC6Rhu"
      },
      "execution_count": null,
      "outputs": []
    },
    {
      "cell_type": "markdown",
      "source": [
        "Si bien los datos vienen divididos, los úniremos para posteriormente dividirlos en conjuntos de entrenamiento y prueba de manera alaetoria"
      ],
      "metadata": {
        "id": "2tLODWl88uAF"
      }
    },
    {
      "cell_type": "code",
      "source": [
        "df = pd.concat([df1,df2,df3,df4], ignore_index=True)\n",
        "df.head(3)"
      ],
      "metadata": {
        "colab": {
          "base_uri": "https://localhost:8080/",
          "height": 208
        },
        "id": "x-uoz0u98hIQ",
        "outputId": "ad291931-b906-4aad-8daf-8a640434aadf"
      },
      "execution_count": null,
      "outputs": [
        {
          "output_type": "execute_result",
          "data": {
            "text/plain": [
              "   ID_Patient_Care_Situation  Diagnosed_Condition  Patient_ID  \\\n",
              "0                      24206                   35        4640   \n",
              "1                      32827                   30        3214   \n",
              "2                       3694                   46        3564   \n",
              "\n",
              "  Treated_with_drugs  Patient_Age  Patient_Body_Mass_Index Patient_Smoker  \\\n",
              "0               DX5            65                20.710365             NO   \n",
              "1               dx1             2                24.250219            NO    \n",
              "2               dx6             1                27.139276             NO   \n",
              "\n",
              "  Patient_Rural_Urban Patient_mental_condition    A    B    C    D    E    F  \\\n",
              "0               RURAL                   Stable  1.0  0.0  0.0  0.0  1.0  0.0   \n",
              "1               URBAN                   Stable  1.0  0.0  0.0  0.0  1.0  0.0   \n",
              "2               URBAN                   Stable  1.0  0.0  0.0  0.0  0.0  0.0   \n",
              "\n",
              "     Z  Number_of_prev_cond  Survived_1_year  \n",
              "0  0.0                  2.0              NaN  \n",
              "1  0.0                  2.0              NaN  \n",
              "2  0.0                  1.0              NaN  "
            ],
            "text/html": [
              "\n",
              "  <div id=\"df-a952d105-44ac-42d0-93cb-2b3addd2a393\">\n",
              "    <div class=\"colab-df-container\">\n",
              "      <div>\n",
              "<style scoped>\n",
              "    .dataframe tbody tr th:only-of-type {\n",
              "        vertical-align: middle;\n",
              "    }\n",
              "\n",
              "    .dataframe tbody tr th {\n",
              "        vertical-align: top;\n",
              "    }\n",
              "\n",
              "    .dataframe thead th {\n",
              "        text-align: right;\n",
              "    }\n",
              "</style>\n",
              "<table border=\"1\" class=\"dataframe\">\n",
              "  <thead>\n",
              "    <tr style=\"text-align: right;\">\n",
              "      <th></th>\n",
              "      <th>ID_Patient_Care_Situation</th>\n",
              "      <th>Diagnosed_Condition</th>\n",
              "      <th>Patient_ID</th>\n",
              "      <th>Treated_with_drugs</th>\n",
              "      <th>Patient_Age</th>\n",
              "      <th>Patient_Body_Mass_Index</th>\n",
              "      <th>Patient_Smoker</th>\n",
              "      <th>Patient_Rural_Urban</th>\n",
              "      <th>Patient_mental_condition</th>\n",
              "      <th>A</th>\n",
              "      <th>B</th>\n",
              "      <th>C</th>\n",
              "      <th>D</th>\n",
              "      <th>E</th>\n",
              "      <th>F</th>\n",
              "      <th>Z</th>\n",
              "      <th>Number_of_prev_cond</th>\n",
              "      <th>Survived_1_year</th>\n",
              "    </tr>\n",
              "  </thead>\n",
              "  <tbody>\n",
              "    <tr>\n",
              "      <th>0</th>\n",
              "      <td>24206</td>\n",
              "      <td>35</td>\n",
              "      <td>4640</td>\n",
              "      <td>DX5</td>\n",
              "      <td>65</td>\n",
              "      <td>20.710365</td>\n",
              "      <td>NO</td>\n",
              "      <td>RURAL</td>\n",
              "      <td>Stable</td>\n",
              "      <td>1.0</td>\n",
              "      <td>0.0</td>\n",
              "      <td>0.0</td>\n",
              "      <td>0.0</td>\n",
              "      <td>1.0</td>\n",
              "      <td>0.0</td>\n",
              "      <td>0.0</td>\n",
              "      <td>2.0</td>\n",
              "      <td>NaN</td>\n",
              "    </tr>\n",
              "    <tr>\n",
              "      <th>1</th>\n",
              "      <td>32827</td>\n",
              "      <td>30</td>\n",
              "      <td>3214</td>\n",
              "      <td>dx1</td>\n",
              "      <td>2</td>\n",
              "      <td>24.250219</td>\n",
              "      <td>NO</td>\n",
              "      <td>URBAN</td>\n",
              "      <td>Stable</td>\n",
              "      <td>1.0</td>\n",
              "      <td>0.0</td>\n",
              "      <td>0.0</td>\n",
              "      <td>0.0</td>\n",
              "      <td>1.0</td>\n",
              "      <td>0.0</td>\n",
              "      <td>0.0</td>\n",
              "      <td>2.0</td>\n",
              "      <td>NaN</td>\n",
              "    </tr>\n",
              "    <tr>\n",
              "      <th>2</th>\n",
              "      <td>3694</td>\n",
              "      <td>46</td>\n",
              "      <td>3564</td>\n",
              "      <td>dx6</td>\n",
              "      <td>1</td>\n",
              "      <td>27.139276</td>\n",
              "      <td>NO</td>\n",
              "      <td>URBAN</td>\n",
              "      <td>Stable</td>\n",
              "      <td>1.0</td>\n",
              "      <td>0.0</td>\n",
              "      <td>0.0</td>\n",
              "      <td>0.0</td>\n",
              "      <td>0.0</td>\n",
              "      <td>0.0</td>\n",
              "      <td>0.0</td>\n",
              "      <td>1.0</td>\n",
              "      <td>NaN</td>\n",
              "    </tr>\n",
              "  </tbody>\n",
              "</table>\n",
              "</div>\n",
              "      <button class=\"colab-df-convert\" onclick=\"convertToInteractive('df-a952d105-44ac-42d0-93cb-2b3addd2a393')\"\n",
              "              title=\"Convert this dataframe to an interactive table.\"\n",
              "              style=\"display:none;\">\n",
              "        \n",
              "  <svg xmlns=\"http://www.w3.org/2000/svg\" height=\"24px\"viewBox=\"0 0 24 24\"\n",
              "       width=\"24px\">\n",
              "    <path d=\"M0 0h24v24H0V0z\" fill=\"none\"/>\n",
              "    <path d=\"M18.56 5.44l.94 2.06.94-2.06 2.06-.94-2.06-.94-.94-2.06-.94 2.06-2.06.94zm-11 1L8.5 8.5l.94-2.06 2.06-.94-2.06-.94L8.5 2.5l-.94 2.06-2.06.94zm10 10l.94 2.06.94-2.06 2.06-.94-2.06-.94-.94-2.06-.94 2.06-2.06.94z\"/><path d=\"M17.41 7.96l-1.37-1.37c-.4-.4-.92-.59-1.43-.59-.52 0-1.04.2-1.43.59L10.3 9.45l-7.72 7.72c-.78.78-.78 2.05 0 2.83L4 21.41c.39.39.9.59 1.41.59.51 0 1.02-.2 1.41-.59l7.78-7.78 2.81-2.81c.8-.78.8-2.07 0-2.86zM5.41 20L4 18.59l7.72-7.72 1.47 1.35L5.41 20z\"/>\n",
              "  </svg>\n",
              "      </button>\n",
              "      \n",
              "  <style>\n",
              "    .colab-df-container {\n",
              "      display:flex;\n",
              "      flex-wrap:wrap;\n",
              "      gap: 12px;\n",
              "    }\n",
              "\n",
              "    .colab-df-convert {\n",
              "      background-color: #E8F0FE;\n",
              "      border: none;\n",
              "      border-radius: 50%;\n",
              "      cursor: pointer;\n",
              "      display: none;\n",
              "      fill: #1967D2;\n",
              "      height: 32px;\n",
              "      padding: 0 0 0 0;\n",
              "      width: 32px;\n",
              "    }\n",
              "\n",
              "    .colab-df-convert:hover {\n",
              "      background-color: #E2EBFA;\n",
              "      box-shadow: 0px 1px 2px rgba(60, 64, 67, 0.3), 0px 1px 3px 1px rgba(60, 64, 67, 0.15);\n",
              "      fill: #174EA6;\n",
              "    }\n",
              "\n",
              "    [theme=dark] .colab-df-convert {\n",
              "      background-color: #3B4455;\n",
              "      fill: #D2E3FC;\n",
              "    }\n",
              "\n",
              "    [theme=dark] .colab-df-convert:hover {\n",
              "      background-color: #434B5C;\n",
              "      box-shadow: 0px 1px 3px 1px rgba(0, 0, 0, 0.15);\n",
              "      filter: drop-shadow(0px 1px 2px rgba(0, 0, 0, 0.3));\n",
              "      fill: #FFFFFF;\n",
              "    }\n",
              "  </style>\n",
              "\n",
              "      <script>\n",
              "        const buttonEl =\n",
              "          document.querySelector('#df-a952d105-44ac-42d0-93cb-2b3addd2a393 button.colab-df-convert');\n",
              "        buttonEl.style.display =\n",
              "          google.colab.kernel.accessAllowed ? 'block' : 'none';\n",
              "\n",
              "        async function convertToInteractive(key) {\n",
              "          const element = document.querySelector('#df-a952d105-44ac-42d0-93cb-2b3addd2a393');\n",
              "          const dataTable =\n",
              "            await google.colab.kernel.invokeFunction('convertToInteractive',\n",
              "                                                     [key], {});\n",
              "          if (!dataTable) return;\n",
              "\n",
              "          const docLinkHtml = 'Like what you see? Visit the ' +\n",
              "            '<a target=\"_blank\" href=https://colab.research.google.com/notebooks/data_table.ipynb>data table notebook</a>'\n",
              "            + ' to learn more about interactive tables.';\n",
              "          element.innerHTML = '';\n",
              "          dataTable['output_type'] = 'display_data';\n",
              "          await google.colab.output.renderOutput(dataTable, element);\n",
              "          const docLink = document.createElement('div');\n",
              "          docLink.innerHTML = docLinkHtml;\n",
              "          element.appendChild(docLink);\n",
              "        }\n",
              "      </script>\n",
              "    </div>\n",
              "  </div>\n",
              "  "
            ]
          },
          "metadata": {},
          "execution_count": 9
        }
      ]
    },
    {
      "cell_type": "code",
      "source": [
        "df.columns"
      ],
      "metadata": {
        "colab": {
          "base_uri": "https://localhost:8080/"
        },
        "id": "xfUGxiH9ExTR",
        "outputId": "dddd4ed1-e005-4b61-e3b9-cd726995078f"
      },
      "execution_count": null,
      "outputs": [
        {
          "output_type": "execute_result",
          "data": {
            "text/plain": [
              "Index(['ID_Patient_Care_Situation', 'Diagnosed_Condition', 'Patient_ID',\n",
              "       'Treated_with_drugs', 'Patient_Age', 'Patient_Body_Mass_Index',\n",
              "       'Patient_Smoker', 'Patient_Rural_Urban', 'Patient_mental_condition',\n",
              "       'A', 'B', 'C', 'D', 'E', 'F', 'Z', 'Number_of_prev_cond',\n",
              "       'Survived_1_year'],\n",
              "      dtype='object')"
            ]
          },
          "metadata": {},
          "execution_count": 27
        }
      ]
    },
    {
      "cell_type": "markdown",
      "source": [
        "**Descripción de las columnas**\n",
        "\n",
        "- *ID_Patient_Care_Situation*: es un código que representa la situación de cuidados de un paciente durante el tratamiento.\n",
        "\n",
        "- *Diagnosed_Condition*: Un código que representa el diagnóstico del paciente.\n",
        "\n",
        "- *Patient_ID*: Identificación del paciente.\n",
        "\n",
        "- *Treated_with_drugs*: Clase de fármacos utilizados en el tratamiento.\n",
        "\n",
        "- *Patient_Age*: Edad del paciente.\n",
        "\n",
        "- *Patient_Body_Mass_Index*: Índice de Masa Corporal (función del peso y la estatura) del paciente.\n",
        "\n",
        "- *Patient_Smoker*: Si el paciente era fumador o no.\n",
        "\n",
        "- *Patient_Rural_Urban*: Si el paciente vive en una región rural o urbana del país.\n",
        "\n",
        "- *Patient_mental_condition*: Breve descripción de la condición mental del paciente.\n",
        "\n",
        "- *A*, *B*, *C*, *D*, *E*, *F*, *Z*: En conjunto describen la condición del paciente antes de iniciar el tratamiento. El valor 0 indica que el paciente no presentaba la condición, 1 que sí la presentaba. El número de padecimientos se suma en la columna *Number_of_prev_cond*.\n",
        "\n",
        "- *Survived_1_year*: El valor 0 implica que el paciente no sobrevivió después de un año de tratamiento, mientras que el 1 indica que sí sobrevivió."
      ],
      "metadata": {
        "id": "xNWUqJvGF8zD"
      }
    },
    {
      "cell_type": "markdown",
      "source": [
        "Entonces utilizaremos las columnas Diagnosed_Condition, Patient_Age, Patient_Body_Mass_Index y Number_of_prev_cond para clasificar los pacientes entre los que sí sobrevivieron un año o no."
      ],
      "metadata": {
        "id": "K86SXgQxY-mj"
      }
    },
    {
      "cell_type": "code",
      "source": [
        "df.info()"
      ],
      "metadata": {
        "colab": {
          "base_uri": "https://localhost:8080/"
        },
        "id": "riqMKpwp8hFW",
        "outputId": "1d65e6ca-becc-4790-f192-eca9c8edd14f"
      },
      "execution_count": null,
      "outputs": [
        {
          "output_type": "stream",
          "name": "stdout",
          "text": [
            "<class 'pandas.core.frame.DataFrame'>\n",
            "RangeIndex: 66809 entries, 0 to 66808\n",
            "Data columns (total 18 columns):\n",
            " #   Column                     Non-Null Count  Dtype  \n",
            "---  ------                     --------------  -----  \n",
            " 0   ID_Patient_Care_Situation  66809 non-null  int64  \n",
            " 1   Diagnosed_Condition        66809 non-null  int64  \n",
            " 2   Patient_ID                 66809 non-null  int64  \n",
            " 3   Treated_with_drugs         66788 non-null  object \n",
            " 4   Patient_Age                66809 non-null  int64  \n",
            " 5   Patient_Body_Mass_Index    66809 non-null  float64\n",
            " 6   Patient_Smoker             66809 non-null  object \n",
            " 7   Patient_Rural_Urban        66809 non-null  object \n",
            " 8   Patient_mental_condition   66809 non-null  object \n",
            " 9   A                          64218 non-null  float64\n",
            " 10  B                          64218 non-null  float64\n",
            " 11  C                          64218 non-null  float64\n",
            " 12  D                          64218 non-null  float64\n",
            " 13  E                          64218 non-null  float64\n",
            " 14  F                          64218 non-null  float64\n",
            " 15  Z                          64218 non-null  float64\n",
            " 16  Number_of_prev_cond        64218 non-null  float64\n",
            " 17  Survived_1_year            48176 non-null  float64\n",
            "dtypes: float64(10), int64(4), object(4)\n",
            "memory usage: 9.2+ MB\n"
          ]
        }
      ]
    },
    {
      "cell_type": "markdown",
      "source": [
        "Dando una revisión rápida a los datos vemos que hay algunos datos faltantes en una de las columnas de interés, por practicidad, eliminaremos los registros con datos faltantes."
      ],
      "metadata": {
        "id": "8YVomjdabq3P"
      }
    },
    {
      "cell_type": "code",
      "source": [
        "df = df.dropna(axis=0)\n",
        "df.isna().sum()"
      ],
      "metadata": {
        "colab": {
          "base_uri": "https://localhost:8080/"
        },
        "id": "1IvSPCb2butm",
        "outputId": "abdfa7b4-0ae5-43b6-c074-840cc760cbf1"
      },
      "execution_count": null,
      "outputs": [
        {
          "output_type": "execute_result",
          "data": {
            "text/plain": [
              "ID_Patient_Care_Situation    0\n",
              "Diagnosed_Condition          0\n",
              "Patient_ID                   0\n",
              "Treated_with_drugs           0\n",
              "Patient_Age                  0\n",
              "Patient_Body_Mass_Index      0\n",
              "Patient_Smoker               0\n",
              "Patient_Rural_Urban          0\n",
              "Patient_mental_condition     0\n",
              "A                            0\n",
              "B                            0\n",
              "C                            0\n",
              "D                            0\n",
              "E                            0\n",
              "F                            0\n",
              "Z                            0\n",
              "Number_of_prev_cond          0\n",
              "Survived_1_year              0\n",
              "dtype: int64"
            ]
          },
          "metadata": {},
          "execution_count": 44
        }
      ]
    },
    {
      "cell_type": "markdown",
      "source": [
        "Ahora entrenamos un modelo de regresión logística"
      ],
      "metadata": {
        "id": "HFLrWUwWcDXY"
      }
    },
    {
      "cell_type": "code",
      "source": [
        "#seleccionamos las variables de interés\n",
        "X = df[['Diagnosed_Condition', 'Patient_Age', 'Patient_Body_Mass_Index', 'Number_of_prev_cond']]\n",
        "y = df['Survived_1_year']"
      ],
      "metadata": {
        "id": "j41s2BAlcONX"
      },
      "execution_count": null,
      "outputs": []
    },
    {
      "cell_type": "code",
      "source": [
        "#importamos librerías necesarias\n",
        "from sklearn.linear_model import LogisticRegression\n",
        "from sklearn.model_selection import train_test_split"
      ],
      "metadata": {
        "id": "JYsq7Zw1ceRc"
      },
      "execution_count": null,
      "outputs": []
    },
    {
      "cell_type": "code",
      "source": [
        "#particionamos los datos ocupando el 70% para entrenamiento y 30% para prueba\n",
        "X_train, X_test, y_train, y_test = train_test_split(X, y, test_size=0.3)"
      ],
      "metadata": {
        "id": "IBacEsUdcg08"
      },
      "execution_count": null,
      "outputs": []
    },
    {
      "cell_type": "code",
      "source": [
        "# creamos el modelo\n",
        "logreg = LogisticRegression(max_iter=1000000)"
      ],
      "metadata": {
        "id": "ki_upvXAdBx-"
      },
      "execution_count": null,
      "outputs": []
    },
    {
      "cell_type": "code",
      "source": [
        "# ajustamos el modelo de regresión\n",
        "logreg.fit(X_train, y_train)"
      ],
      "metadata": {
        "colab": {
          "base_uri": "https://localhost:8080/"
        },
        "id": "yLQQH86Rc2Kn",
        "outputId": "7a4a14b0-71c6-4370-98d2-0790162c8925"
      },
      "execution_count": null,
      "outputs": [
        {
          "output_type": "execute_result",
          "data": {
            "text/plain": [
              "LogisticRegression(max_iter=1000000)"
            ]
          },
          "metadata": {},
          "execution_count": 67
        }
      ]
    },
    {
      "cell_type": "code",
      "source": [
        "#realizamos predicciones con el conjunto de prueba\n",
        "y_pred = logreg.predict(X_test)"
      ],
      "metadata": {
        "id": "W5dPHnppc96s"
      },
      "execution_count": null,
      "outputs": []
    },
    {
      "cell_type": "markdown",
      "source": [
        "Procedemos a evaluar el modelo creado"
      ],
      "metadata": {
        "id": "xwGLc9mDd9mB"
      }
    },
    {
      "cell_type": "code",
      "source": [
        "from sklearn import metrics"
      ],
      "metadata": {
        "id": "3PIWjCmZdl-D"
      },
      "execution_count": null,
      "outputs": []
    },
    {
      "cell_type": "markdown",
      "source": [
        "Matriz de confusión"
      ],
      "metadata": {
        "id": "mLj9Fpdied4p"
      }
    },
    {
      "cell_type": "code",
      "source": [
        "import matplotlib.pyplot as plt\n",
        "import seaborn as sns\n",
        "import numpy as np"
      ],
      "metadata": {
        "id": "6qzyVid6elUy"
      },
      "execution_count": null,
      "outputs": []
    },
    {
      "cell_type": "code",
      "source": [
        "cnf_matrix = metrics.confusion_matrix(y_test, y_pred)\n",
        "class_names=[0,1]\n",
        "fig, ax = plt.subplots(figsize=(6, 6))\n",
        "tick_marks = np.arange(len(class_names))\n",
        "plt.xticks(tick_marks, class_names)\n",
        "plt.yticks(tick_marks, class_names)\n",
        "# create heatmap\n",
        "sns.heatmap(pd.DataFrame(cnf_matrix), annot=True, cmap=\"PuBu\",\n",
        "            center=500,fmt='g', cbar=False, annot_kws={\"size\": 20})\n",
        "ax.xaxis.set_label_position(\"top\")\n",
        "plt.tight_layout()\n",
        "plt.ylabel('Realidad', fontsize=15, y=0.5)\n",
        "plt.xlabel('Estimado por el modelo', fontsize=15);"
      ],
      "metadata": {
        "colab": {
          "base_uri": "https://localhost:8080/",
          "height": 457
        },
        "id": "cNnDiZKxdl0h",
        "outputId": "deb2ad03-ae8f-49e9-d060-5787cf021bec"
      },
      "execution_count": null,
      "outputs": [
        {
          "output_type": "display_data",
          "data": {
            "text/plain": [
              "<Figure size 432x432 with 1 Axes>"
            ],
            "image/png": "[encoded data removed]"
          },
          "metadata": {
            "needs_background": "light"
          }
        }
      ]
    },
    {
      "cell_type": "markdown",
      "source": [
        "Vemos que nuestro modelo produce bastantes falsos positivos (4429) pero casi el doble de verdaderos positivos (8273). Mientras que la clasificación de los negativos es bastante equitativo entre verdaderos y falsos negativos.\n",
        "También consideremos que tenemos más datos con la etiqueta 1 que 0."
      ],
      "metadata": {
        "id": "64i-ruPcgVP3"
      }
    },
    {
      "cell_type": "code",
      "source": [
        "df.groupby('Survived_1_year').size()"
      ],
      "metadata": {
        "colab": {
          "base_uri": "https://localhost:8080/"
        },
        "id": "6j8INMVdecIU",
        "outputId": "1c5a90fe-4b89-4fd2-8466-674bda4eda9d"
      },
      "execution_count": null,
      "outputs": [
        {
          "output_type": "execute_result",
          "data": {
            "text/plain": [
              "Survived_1_year\n",
              "0.0    17077\n",
              "1.0    28487\n",
              "dtype: int64"
            ]
          },
          "metadata": {},
          "execution_count": 93
        }
      ]
    },
    {
      "cell_type": "markdown",
      "source": [
        "Calculamos las medidas de evaluación"
      ],
      "metadata": {
        "id": "_LAaQs2RhtdQ"
      }
    },
    {
      "cell_type": "code",
      "source": [
        "tn, fp, fn, tp = cnf_matrix.ravel()\n",
        "\n",
        "print(\"Precision:\",metrics.precision_score(y_test, y_pred))\n",
        "print(\"Exactitud:\",metrics.accuracy_score(y_test, y_pred))\n",
        "print(\"Sensibilidad:\",metrics.recall_score(y_test, y_pred))\n",
        "print(\"Especificidad:\", tn / (tn + fp))"
      ],
      "metadata": {
        "colab": {
          "base_uri": "https://localhost:8080/"
        },
        "id": "R-PIrDJfhh-Q",
        "outputId": "0b8f556e-a0a4-441a-cb9c-8d2b3467c011"
      },
      "execution_count": null,
      "outputs": [
        {
          "output_type": "stream",
          "name": "stdout",
          "text": [
            "Precision: 0.6513147535821131\n",
            "Exactitud: 0.648646671543526\n",
            "Sensibilidad: 0.95674800508847\n",
            "Especificidad: 0.11825602229743182\n"
          ]
        }
      ]
    },
    {
      "cell_type": "markdown",
      "source": [
        "El modelo no es muy bueno como lo intuíamos con la matriz de confusión, sólo el 65% de las clasificaciones positivas que se realizaron eran en verdad positivas. Sólo el 64% de las clasificaciones realizadas fueron correctas. Y solo el 11% de las clasificaciones negativas que había en realidad se clasificaron correctamente como negativas. Sin embargo, el 95% de las clasificaciones positivas verdaderas que había se clasificaron correctamente."
      ],
      "metadata": {
        "id": "X5BLq9Qvh-NW"
      }
    },
    {
      "cell_type": "markdown",
      "source": [
        "Ahora graficamos la curva ROC/AUC"
      ],
      "metadata": {
        "id": "z84GJw4gi8li"
      }
    },
    {
      "cell_type": "code",
      "source": [
        "from sklearn.metrics import roc_curve, auc"
      ],
      "metadata": {
        "id": "RPvyqvndjIGa"
      },
      "execution_count": null,
      "outputs": []
    },
    {
      "cell_type": "code",
      "source": [
        "#obtenemos los resultados probabilísticos del modelo\n",
        "y_pred_proba = logreg.predict_proba(X_test)"
      ],
      "metadata": {
        "id": "z7imAI6Xis5E"
      },
      "execution_count": null,
      "outputs": []
    },
    {
      "cell_type": "code",
      "source": [
        "fpr, tpr, _ = roc_curve(y_test, y_pred_proba[:, 1])\n",
        "roc_auc = auc(fpr, tpr)"
      ],
      "metadata": {
        "id": "0Ep0h6ssjPzH"
      },
      "execution_count": null,
      "outputs": []
    },
    {
      "cell_type": "code",
      "source": [
        "plt.figure()\n",
        "plt.plot(fpr, tpr, color='gold',\n",
        "         label='ROC curve (area = %0.2f)' % roc_auc,linewidth=3)\n",
        "plt.plot([0, 1], [0, 1], color='crimson', linestyle='--',linewidth=3)\n",
        "plt.xlim([0.0, 1.0])\n",
        "plt.ylim([0.0, 1.05])\n",
        "plt.xlabel('Proporción Positivos False')\n",
        "plt.ylabel('Proporción Positivos Verdaderos')\n",
        "plt.title('Curva ROC / AUC')\n",
        "plt.legend(loc=\"lower right\")\n",
        "plt.show()"
      ],
      "metadata": {
        "colab": {
          "base_uri": "https://localhost:8080/",
          "height": 296
        },
        "id": "GjEmZOAQjQOK",
        "outputId": "d79976c6-4692-4b48-c5f2-d34dfa81c8b9"
      },
      "execution_count": null,
      "outputs": [
        {
          "output_type": "display_data",
          "data": {
            "text/plain": [
              "<Figure size 432x288 with 1 Axes>"
            ],
            "image/png": "[encoded data removed]"
          },
          "metadata": {
            "needs_background": "light"
          }
        }
      ]
    },
    {
      "cell_type": "markdown",
      "source": [
        "El valor cercano a 0.5 significa que el modelo no puede diferenciar entre positivos y negativos. Esto puede atribuirse a varias causas como, la elección de las variables independientes, pudimos haber utilizado más o menos variables, que la información no sea suficiente o simplemente que un modelo de regresión logística no sea el más apropiado para este problema."
      ],
      "metadata": {
        "id": "UQP60Xhwk_ul"
      }
    }
  ]
}